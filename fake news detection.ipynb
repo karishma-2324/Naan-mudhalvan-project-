{
  "nbformat": 4,
  "nbformat_minor": 0,
  "metadata": {
    "colab": {
      "provenance": [],
      "authorship_tag": "ABX9TyPJgl/4fNOSkxVTZ1EPVoSB",
      "include_colab_link": true
    },
    "kernelspec": {
      "name": "python3",
      "display_name": "Python 3"
    },
    "language_info": {
      "name": "python"
    }
  },
  "cells": [
    {
      "cell_type": "markdown",
      "metadata": {
        "id": "view-in-github",
        "colab_type": "text"
      },
      "source": [
        "<a href=\"https://colab.research.google.com/github/karishma-2324/Naan-mudhalvan-project-/blob/main/fake%20news%20detection.ipynb\" target=\"_parent\"><img src=\"https://colab.research.google.com/assets/colab-badge.svg\" alt=\"Open In Colab\"/></a>"
      ]
    },
    {
      "cell_type": "code",
      "execution_count": null,
      "metadata": {
        "id": "CRqPjadGg6Fp"
      },
      "outputs": [],
      "source": [
        "# ✅ Install necessary libraries\n",
        "!pip install -q nltk gradio\n",
        "\n",
        "# ✅ Import libraries\n",
        "import zipfile, io, re, string\n",
        "import pandas as pd\n",
        "import numpy as np\n",
        "import nltk\n",
        "import gradio as gr\n",
        "\n",
        "from google.colab import files\n",
        "from sklearn.model_selection import train_test_split\n",
        "from sklearn.feature_extraction.text import TfidfVectorizer\n",
        "from sklearn.linear_model import PassiveAggressiveClassifier\n",
        "from sklearn.utils import resample\n",
        "\n",
        "# ✅ Download stopwords\n",
        "nltk.download('stopwords')\n",
        "from nltk.corpus import stopwords\n",
        "stop_words = set(stopwords.words('english'))\n",
        "\n",
        "# ✅ File upload\n",
        "uploaded = files.upload()  # Upload the zip file containing Fake.csv and True.csv\n",
        "\n",
        "# ✅ Extract uploaded zip\n",
        "zip_file = list(uploaded.keys())[0]\n",
        "with zipfile.ZipFile(io.BytesIO(uploaded[zip_file]), 'r') as zip_ref:\n",
        "    zip_ref.extractall()\n",
        "\n",
        "# ✅ Load datasets\n",
        "fake = pd.read_csv(\"Fake.csv\")\n",
        "real = pd.read_csv(\"True.csv\")\n",
        "fake['label'] = 0\n",
        "real['label'] = 1\n",
        "\n",
        "# ✅ Combine and clean\n",
        "df = pd.concat([fake, real]).reset_index(drop=True)\n",
        "df['combined'] = df['title'] + \" \" + df['text']\n",
        "\n",
        "def clean_text(text):\n",
        "    text = text.lower()\n",
        "    text = re.sub(r\"http\\S+|www.\\S+\", \"\", text)\n",
        "    text = re.sub(r\"<.*?>\", \"\", text)\n",
        "    text = re.sub(r\"[%s]\" % re.escape(string.punctuation), \"\", text)\n",
        "    text = re.sub(r\"\\d+\", \"\", text)\n",
        "    text = re.sub(r\"\\s+\", \" \", text)\n",
        "    return \" \".join([word for word in text.split() if word not in stop_words])\n",
        "\n",
        "df['clean_text'] = df['combined'].apply(clean_text)\n",
        "\n",
        "# ✅ Balance dataset\n",
        "df_fake = df[df['label'] == 0]\n",
        "df_real = df[df['label'] == 1]\n",
        "df_real_downsampled = resample(df_real, replace=True, n_samples=len(df_fake), random_state=42)\n",
        "df_balanced = pd.concat([df_fake, df_real_downsampled]).sample(frac=1, random_state=42)\n",
        "\n",
        "# ✅ Train/Test split\n",
        "X = df_balanced['clean_text']\n",
        "y = df_balanced['label']\n",
        "X_train, X_test, y_train, y_test = train_test_split(X, y, test_size=0.2, random_state=42)\n",
        "\n",
        "# ✅ TF-IDF Vectorization\n",
        "vectorizer = TfidfVectorizer(max_df=0.7, min_df=5, max_features=5000)\n",
        "X_train_tfidf = vectorizer.fit_transform(X_train)\n",
        "X_test_tfidf = vectorizer.transform(X_test)\n",
        "\n",
        "# ✅ Model training\n",
        "model = PassiveAggressiveClassifier(max_iter=1000)\n",
        "model.fit(X_train_tfidf, y_train)\n",
        "\n",
        "# ✅ Gradio prediction function\n",
        "def predict_news(text):\n",
        "    cleaned = clean_text(text)\n",
        "    vec = vectorizer.transform([cleaned])\n",
        "    pred = model.predict(vec)[0]\n",
        "    return \"🟢 REAL News\" if pred == 1 else \"🔴 FAKE News\"\n",
        "\n",
        "# ✅ Launch Gradio interface\n",
        "demo = gr.Interface(\n",
        "    fn=predict_news,\n",
        "    inputs=gr.Textbox(lines=10, placeholder=\"Paste news content here...\"),\n",
        "    outputs=gr.Label(label=\"Prediction\"),\n",
        "    title=\"📰 Fake News Detector\",\n",
        "    description=\"Paste a news article to check if it's REAL or FAKE using NLP + ML.\",\n",
        ")\n"
      ]
    }
  ]
}